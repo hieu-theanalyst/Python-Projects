{
 "cells": [
  {
   "cell_type": "markdown",
   "id": "d52fbcd6-b930-4158-ab26-6602ee7e3eed",
   "metadata": {},
   "source": [
    "# Automatic File Sorter"
   ]
  },
  {
   "cell_type": "code",
   "execution_count": 2,
   "id": "0838f99b-9234-4c49-b6a7-d2d7f3a4dbcd",
   "metadata": {},
   "outputs": [],
   "source": [
    "import os, shutil"
   ]
  },
  {
   "cell_type": "code",
   "execution_count": 16,
   "id": "02d2dc97-73d2-4335-bcbc-7bfd3b3c7c95",
   "metadata": {},
   "outputs": [],
   "source": [
    "path = r\"R:/MSU/Transfer Forms/\""
   ]
  },
  {
   "cell_type": "code",
   "execution_count": 24,
   "id": "0ec36918-7808-4a15-a3be-cf7b4a6e9e2e",
   "metadata": {},
   "outputs": [],
   "source": [
    "file_name = os.listdir(path)"
   ]
  },
  {
   "cell_type": "code",
   "execution_count": 37,
   "id": "52445f0e-adf9-4113-8096-8f6c234743de",
   "metadata": {},
   "outputs": [
    {
     "name": "stdout",
     "output_type": "stream",
     "text": [
      "R:/MSU/Transfer Forms/text files\n"
     ]
    }
   ],
   "source": [
    "folder_names = ['csv files', 'image files', 'text files', 'pdf', 'docx']\n",
    "for loop in range(0,5):\n",
    "    if not os.path.exists(path + folder_names[loop]):\n",
    "        print(path + folder_names[loop])\n",
    "        os.makedirs(path + folder_names[loop])\n",
    "\n",
    "for file in file_name:\n",
    "    if \".csv\" in file and not os.path.exists(path + \"csv files/\" + file):\n",
    "        shutil.move(path + file, path + \"csv files/\" + file)\n",
    "    elif \".png\" in file and not os.path.exists(path + \"image files/\" + file):\n",
    "        shutil.move(path + file, path + \"image files/\" + file)\n",
    "    elif \".txt\" in file and not os.path.exists(path + \"text files/\" + file):\n",
    "        shutil.move(path + file, path + \"text files/\" + file)\n",
    "    elif \".pdf\" in file and not os.path.exists(path + \"pdf/\" + file):\n",
    "        shutil.move(path + file, path + \"pdf/\" + file)\n",
    "    elif \".docx\" in file and not os.path.exists(path + \"docx/\" + file):\n",
    "        shutil.move(path + file, path + \"docx/\" + file)"
   ]
  },
  {
   "cell_type": "code",
   "execution_count": null,
   "id": "c8c17443-997b-4953-815a-c1ee82595247",
   "metadata": {},
   "outputs": [],
   "source": []
  },
  {
   "cell_type": "code",
   "execution_count": null,
   "id": "550327ed-2958-470e-ada9-d7cb4a5482b3",
   "metadata": {},
   "outputs": [],
   "source": []
  },
  {
   "cell_type": "code",
   "execution_count": null,
   "id": "957b650f-4762-4acc-8457-9891183e3f8b",
   "metadata": {},
   "outputs": [],
   "source": []
  },
  {
   "cell_type": "code",
   "execution_count": null,
   "id": "78d553db-5b11-43f8-a7bc-6dbac680e049",
   "metadata": {},
   "outputs": [],
   "source": []
  },
  {
   "cell_type": "code",
   "execution_count": null,
   "id": "1033c4a4-b02a-4a70-9a15-c0dcec9beabc",
   "metadata": {},
   "outputs": [],
   "source": []
  },
  {
   "cell_type": "code",
   "execution_count": null,
   "id": "a36b65cc-6ac2-407a-ad5c-1d747943b154",
   "metadata": {},
   "outputs": [],
   "source": []
  },
  {
   "cell_type": "code",
   "execution_count": null,
   "id": "7aa48429-55fe-4e8b-8d46-1b00b14824bd",
   "metadata": {},
   "outputs": [],
   "source": []
  },
  {
   "cell_type": "code",
   "execution_count": null,
   "id": "81ef24e6-f5d1-4670-91f5-174fa86eb71d",
   "metadata": {},
   "outputs": [],
   "source": []
  }
 ],
 "metadata": {
  "kernelspec": {
   "display_name": "Python 3 (ipykernel)",
   "language": "python",
   "name": "python3"
  },
  "language_info": {
   "codemirror_mode": {
    "name": "ipython",
    "version": 3
   },
   "file_extension": ".py",
   "mimetype": "text/x-python",
   "name": "python",
   "nbconvert_exporter": "python",
   "pygments_lexer": "ipython3",
   "version": "3.12.4"
  }
 },
 "nbformat": 4,
 "nbformat_minor": 5
}
